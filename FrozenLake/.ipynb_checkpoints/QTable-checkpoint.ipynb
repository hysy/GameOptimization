{
 "cells": [
  {
   "cell_type": "markdown",
   "metadata": {},
   "source": [
    "# Q学習で FrozenLake問題(4x4)を解く"
   ]
  },
  {
   "cell_type": "code",
   "execution_count": 43,
   "metadata": {},
   "outputs": [],
   "source": [
    "import gym\n",
    "import numpy as np"
   ]
  },
  {
   "cell_type": "code",
   "execution_count": 44,
   "metadata": {},
   "outputs": [],
   "source": [
    "env = gym.make('FrozenLake-v0')"
   ]
  },
  {
   "cell_type": "code",
   "execution_count": 45,
   "metadata": {},
   "outputs": [],
   "source": [
    "# Q値を格納する配列を初期化（フィールドの大きさ x 行動数）\n",
    "Q = np.zeros([env.observation_space.n, env.action_space.n])"
   ]
  },
  {
   "cell_type": "code",
   "execution_count": 51,
   "metadata": {},
   "outputs": [],
   "source": [
    "lr = 0.8 # 学習率\n",
    "y = 0.95 # 割引率\n",
    "num_episodes = 2000 # 学習回数\n",
    "episode_size = 100 # 一回の学習の移動量"
   ]
  },
  {
   "cell_type": "code",
   "execution_count": 54,
   "metadata": {},
   "outputs": [],
   "source": [
    "for i in range(num_episodes):\n",
    "    s = env.reset()\n",
    "    rAll = 0\n",
    "    d = False\n",
    "    move_cnt = 0\n",
    "    while move_cnt < 99:\n",
    "        move_cnt += 1\n",
    "        # Q値が一番高い方向のインデックスを持ってくる ↓学習回数や乱数などのノイズを付与\n",
    "        a = np.argmax(Q[s,:] + np.random.randn(1, env.action_space.n) * (1.0/(i+1)) )\n",
    "        s1, r, d, _ = env.step(a) # s1:行き先マス, r:動作前のQ[s, a], d: 死んだか\n",
    "        Q[s, a] = Q[s, a] + lr * (r + y*np.max(Q[s1, :] - Q[s, a]))\n",
    "        rALL += r # r:動作前のQ[s, a]\n",
    "        s = s1 # マスの移動\n",
    "        if d == True:\n",
    "            break\n",
    "    rList.append(rAll)\n",
    "            "
   ]
  },
  {
   "cell_type": "code",
   "execution_count": 55,
   "metadata": {},
   "outputs": [
    {
     "name": "stdout",
     "output_type": "stream",
     "text": [
      "回数毎の結果： 0.0\n"
     ]
    }
   ],
   "source": [
    "print (\"回数毎の結果：\", str(sum(rList) / num_episodes))"
   ]
  },
  {
   "cell_type": "code",
   "execution_count": 56,
   "metadata": {},
   "outputs": [
    {
     "name": "stdout",
     "output_type": "stream",
     "text": [
      "最終的なQテーブルの値\n",
      "[[1.82324780e-01 2.32136676e-01 9.34147893e-01 2.25699505e-02]\n",
      " [1.36066594e-03 1.30823455e-03 6.71202028e-03 8.76749339e-01]\n",
      " [4.56154428e-02 1.00411127e-02 2.53055540e-02 8.45809752e-01]\n",
      " [7.06535295e-03 1.01797394e-04 5.46965678e-03 8.42360566e-01]\n",
      " [9.26337726e-01 1.18505263e-01 4.98801547e-03 5.64280042e-04]\n",
      " [0.00000000e+00 0.00000000e+00 0.00000000e+00 0.00000000e+00]\n",
      " [7.88163532e-05 3.49495599e-06 4.11647302e-02 4.85872906e-06]\n",
      " [0.00000000e+00 0.00000000e+00 0.00000000e+00 0.00000000e+00]\n",
      " [2.30824492e-02 4.31949483e-02 1.80388048e-03 9.28733675e-01]\n",
      " [0.00000000e+00 9.86082221e-01 6.39319110e-03 2.65182675e-03]\n",
      " [3.71156973e-01 0.00000000e+00 7.61421161e-04 0.00000000e+00]\n",
      " [0.00000000e+00 0.00000000e+00 0.00000000e+00 0.00000000e+00]\n",
      " [0.00000000e+00 0.00000000e+00 0.00000000e+00 0.00000000e+00]\n",
      " [0.00000000e+00 8.01457086e-03 9.64477004e-01 6.90143563e-03]\n",
      " [0.00000000e+00 9.85632630e-01 0.00000000e+00 0.00000000e+00]\n",
      " [0.00000000e+00 0.00000000e+00 0.00000000e+00 0.00000000e+00]]\n"
     ]
    }
   ],
   "source": [
    "print(\"最終的なQテーブルの値\")\n",
    "print(Q)"
   ]
  },
  {
   "cell_type": "code",
   "execution_count": null,
   "metadata": {},
   "outputs": [],
   "source": []
  }
 ],
 "metadata": {
  "kernelspec": {
   "display_name": "Python 3",
   "language": "python",
   "name": "python3"
  },
  "language_info": {
   "codemirror_mode": {
    "name": "ipython",
    "version": 3
   },
   "file_extension": ".py",
   "mimetype": "text/x-python",
   "name": "python",
   "nbconvert_exporter": "python",
   "pygments_lexer": "ipython3",
   "version": "3.6.6"
  }
 },
 "nbformat": 4,
 "nbformat_minor": 2
}
